{
  "nbformat": 4,
  "nbformat_minor": 0,
  "metadata": {
    "colab": {
      "provenance": [],
      "gpuType": "T4"
    },
    "kernelspec": {
      "name": "python3",
      "display_name": "Python 3"
    },
    "language_info": {
      "name": "python"
    },
    "accelerator": "GPU"
  },
  "cells": [
    {
      "cell_type": "markdown",
      "source": [
        "# Préparation"
      ],
      "metadata": {
        "id": "QsjBhhCFJsOU"
      }
    },
    {
      "cell_type": "code",
      "source": [
        "!pip install panns_inference"
      ],
      "metadata": {
        "colab": {
          "base_uri": "https://localhost:8080/"
        },
        "id": "KhUA45ucNRKT",
        "outputId": "d766cf1b-91ca-4539-ee86-d0c6e461cf6f"
      },
      "execution_count": null,
      "outputs": [
        {
          "output_type": "stream",
          "name": "stdout",
          "text": [
            "Requirement already satisfied: panns_inference in /usr/local/lib/python3.10/dist-packages (0.1.1)\n",
            "Requirement already satisfied: matplotlib in /usr/local/lib/python3.10/dist-packages (from panns_inference) (3.8.0)\n",
            "Requirement already satisfied: librosa in /usr/local/lib/python3.10/dist-packages (from panns_inference) (0.10.2.post1)\n",
            "Requirement already satisfied: torchlibrosa in /usr/local/lib/python3.10/dist-packages (from panns_inference) (0.1.0)\n",
            "Requirement already satisfied: audioread>=2.1.9 in /usr/local/lib/python3.10/dist-packages (from librosa->panns_inference) (3.0.1)\n",
            "Requirement already satisfied: numpy!=1.22.0,!=1.22.1,!=1.22.2,>=1.20.3 in /usr/local/lib/python3.10/dist-packages (from librosa->panns_inference) (1.26.4)\n",
            "Requirement already satisfied: scipy>=1.2.0 in /usr/local/lib/python3.10/dist-packages (from librosa->panns_inference) (1.13.1)\n",
            "Requirement already satisfied: scikit-learn>=0.20.0 in /usr/local/lib/python3.10/dist-packages (from librosa->panns_inference) (1.6.0)\n",
            "Requirement already satisfied: joblib>=0.14 in /usr/local/lib/python3.10/dist-packages (from librosa->panns_inference) (1.4.2)\n",
            "Requirement already satisfied: decorator>=4.3.0 in /usr/local/lib/python3.10/dist-packages (from librosa->panns_inference) (4.4.2)\n",
            "Requirement already satisfied: numba>=0.51.0 in /usr/local/lib/python3.10/dist-packages (from librosa->panns_inference) (0.60.0)\n",
            "Requirement already satisfied: soundfile>=0.12.1 in /usr/local/lib/python3.10/dist-packages (from librosa->panns_inference) (0.12.1)\n",
            "Requirement already satisfied: pooch>=1.1 in /usr/local/lib/python3.10/dist-packages (from librosa->panns_inference) (1.8.2)\n",
            "Requirement already satisfied: soxr>=0.3.2 in /usr/local/lib/python3.10/dist-packages (from librosa->panns_inference) (0.5.0.post1)\n",
            "Requirement already satisfied: typing-extensions>=4.1.1 in /usr/local/lib/python3.10/dist-packages (from librosa->panns_inference) (4.12.2)\n",
            "Requirement already satisfied: lazy-loader>=0.1 in /usr/local/lib/python3.10/dist-packages (from librosa->panns_inference) (0.4)\n",
            "Requirement already satisfied: msgpack>=1.0 in /usr/local/lib/python3.10/dist-packages (from librosa->panns_inference) (1.1.0)\n",
            "Requirement already satisfied: contourpy>=1.0.1 in /usr/local/lib/python3.10/dist-packages (from matplotlib->panns_inference) (1.3.1)\n",
            "Requirement already satisfied: cycler>=0.10 in /usr/local/lib/python3.10/dist-packages (from matplotlib->panns_inference) (0.12.1)\n",
            "Requirement already satisfied: fonttools>=4.22.0 in /usr/local/lib/python3.10/dist-packages (from matplotlib->panns_inference) (4.55.3)\n",
            "Requirement already satisfied: kiwisolver>=1.0.1 in /usr/local/lib/python3.10/dist-packages (from matplotlib->panns_inference) (1.4.7)\n",
            "Requirement already satisfied: packaging>=20.0 in /usr/local/lib/python3.10/dist-packages (from matplotlib->panns_inference) (24.2)\n",
            "Requirement already satisfied: pillow>=6.2.0 in /usr/local/lib/python3.10/dist-packages (from matplotlib->panns_inference) (11.0.0)\n",
            "Requirement already satisfied: pyparsing>=2.3.1 in /usr/local/lib/python3.10/dist-packages (from matplotlib->panns_inference) (3.2.0)\n",
            "Requirement already satisfied: python-dateutil>=2.7 in /usr/local/lib/python3.10/dist-packages (from matplotlib->panns_inference) (2.8.2)\n",
            "Requirement already satisfied: llvmlite<0.44,>=0.43.0dev0 in /usr/local/lib/python3.10/dist-packages (from numba>=0.51.0->librosa->panns_inference) (0.43.0)\n",
            "Requirement already satisfied: platformdirs>=2.5.0 in /usr/local/lib/python3.10/dist-packages (from pooch>=1.1->librosa->panns_inference) (4.3.6)\n",
            "Requirement already satisfied: requests>=2.19.0 in /usr/local/lib/python3.10/dist-packages (from pooch>=1.1->librosa->panns_inference) (2.32.3)\n",
            "Requirement already satisfied: six>=1.5 in /usr/local/lib/python3.10/dist-packages (from python-dateutil>=2.7->matplotlib->panns_inference) (1.17.0)\n",
            "Requirement already satisfied: threadpoolctl>=3.1.0 in /usr/local/lib/python3.10/dist-packages (from scikit-learn>=0.20.0->librosa->panns_inference) (3.5.0)\n",
            "Requirement already satisfied: cffi>=1.0 in /usr/local/lib/python3.10/dist-packages (from soundfile>=0.12.1->librosa->panns_inference) (1.17.1)\n",
            "Requirement already satisfied: pycparser in /usr/local/lib/python3.10/dist-packages (from cffi>=1.0->soundfile>=0.12.1->librosa->panns_inference) (2.22)\n",
            "Requirement already satisfied: charset-normalizer<4,>=2 in /usr/local/lib/python3.10/dist-packages (from requests>=2.19.0->pooch>=1.1->librosa->panns_inference) (3.4.0)\n",
            "Requirement already satisfied: idna<4,>=2.5 in /usr/local/lib/python3.10/dist-packages (from requests>=2.19.0->pooch>=1.1->librosa->panns_inference) (3.10)\n",
            "Requirement already satisfied: urllib3<3,>=1.21.1 in /usr/local/lib/python3.10/dist-packages (from requests>=2.19.0->pooch>=1.1->librosa->panns_inference) (2.2.3)\n",
            "Requirement already satisfied: certifi>=2017.4.17 in /usr/local/lib/python3.10/dist-packages (from requests>=2.19.0->pooch>=1.1->librosa->panns_inference) (2024.12.14)\n"
          ]
        }
      ]
    },
    {
      "cell_type": "code",
      "source": [
        "import os\n",
        "import pandas as pd\n",
        "import numpy as np\n",
        "import torchaudio\n",
        "from google.colab import files\n",
        "from panns_inference import AudioTagging, SoundEventDetection\n",
        "from torch.utils.data import DataLoader, Dataset\n",
        "\n",
        "import torch\n",
        "import torch.nn as nn\n",
        "from torchsummary import summary"
      ],
      "metadata": {
        "id": "gpIOxtEdMFkp"
      },
      "execution_count": null,
      "outputs": []
    },
    {
      "cell_type": "code",
      "source": [
        "# Charger le modèle sur CNN14\n",
        "audio_tagging = AudioTagging(checkpoint_path=None)"
      ],
      "metadata": {
        "colab": {
          "base_uri": "https://localhost:8080/"
        },
        "id": "FyD_4ynSOs18",
        "outputId": "bbe87f37-34bb-4f1a-b79f-aeb9749e4f81"
      },
      "execution_count": null,
      "outputs": [
        {
          "output_type": "stream",
          "name": "stdout",
          "text": [
            "Checkpoint path: /root/panns_data/Cnn14_mAP=0.431.pth\n"
          ]
        },
        {
          "output_type": "stream",
          "name": "stderr",
          "text": [
            "/usr/local/lib/python3.10/dist-packages/panns_inference/inference.py:55: FutureWarning: You are using `torch.load` with `weights_only=False` (the current default value), which uses the default pickle module implicitly. It is possible to construct malicious pickle data which will execute arbitrary code during unpickling (See https://github.com/pytorch/pytorch/blob/main/SECURITY.md#untrusted-models for more details). In a future release, the default value for `weights_only` will be flipped to `True`. This limits the functions that could be executed during unpickling. Arbitrary objects will no longer be allowed to be loaded via this mode unless they are explicitly allowlisted by the user via `torch.serialization.add_safe_globals`. We recommend you start setting `weights_only=True` for any use case where you don't have full control of the loaded file. Please open an issue on GitHub for any issues related to this experimental feature.\n",
            "  checkpoint = torch.load(checkpoint_path, map_location=self.device)\n"
          ]
        },
        {
          "output_type": "stream",
          "name": "stdout",
          "text": [
            "GPU number: 1\n"
          ]
        }
      ]
    },
    {
      "cell_type": "code",
      "source": [
        "input_file = 'annotations_test.xlsx'\n",
        "\n",
        "# Charger le fichier Excel\n",
        "df = pd.read_excel(input_file)\n",
        "\n",
        "# Ajouter une colonne pour les embeddings\n",
        "df[\"embeddings\"] = None\n",
        "\n",
        "# Ajouter chaque embeddings de chaque instance dans le dataframe\n",
        "for index, row in df.iterrows():\n",
        "    try:\n",
        "      # Charger la donnée audio depuis la source\n",
        "      wav_path = '/content/' + str(row['filename'])\n",
        "\n",
        "      # Obtenir le bon format\n",
        "      waveform, sample_rate = torchaudio.load(wav_path)\n",
        "\n",
        "      # Applique le modèle d'extraction d'embeddings à des données audio WAV\n",
        "      _, embedding = audio_tagging.inference(waveform)\n",
        "\n",
        "      # Ajouter le résultat dans le DataFrame\n",
        "      df.at[index, \"embeddings\"] = embedding\n",
        "    except Exception as e:\n",
        "        print(f\"Erreur\")"
      ],
      "metadata": {
        "id": "8hvtMBAJj0Ra"
      },
      "execution_count": null,
      "outputs": []
    },
    {
      "cell_type": "code",
      "source": [
        "# Dataset des données pour le dataloader\n",
        "class CustomDataset(Dataset):\n",
        "    def __init__(self, data):\n",
        "        self.features = torch.tensor(data[\"embeddings\"].tolist(), dtype=torch.float32)\n",
        "        self.labels = torch.tensor(data[\"target\"].tolist(), dtype=torch.long)\n",
        "\n",
        "    def __len__(self):\n",
        "        return len(self.features)\n",
        "\n",
        "    def __getitem__(self, idx):\n",
        "        return self.features[idx], self.labels[idx]\n",
        "\n",
        "# Création des datasets\n",
        "test_dataset = CustomDataset(df)"
      ],
      "metadata": {
        "id": "h4D3h9avv1QR"
      },
      "execution_count": null,
      "outputs": []
    },
    {
      "cell_type": "code",
      "source": [
        "# Création des DataLoaders\n",
        "batch_size = 1\n",
        "test_loader = DataLoader(test_dataset, batch_size=batch_size, shuffle=False)"
      ],
      "metadata": {
        "id": "f3E9jhVdv_UK"
      },
      "execution_count": null,
      "outputs": []
    },
    {
      "cell_type": "code",
      "source": [
        "# Entrée : Un vecteur de taille 2048 (représentant un embedding)\n",
        "# Couche cachée : des couches denses avec 128 neurones et une activation ReLU (pleinement connectées)\n",
        "# Couche sortie : nombre de classe\n",
        "\n",
        "class MLP(nn.Module):\n",
        "    def __init__(self, input_size = 2048, num_classes = 5):\n",
        "        super(MLP, self).__init__()\n",
        "        self.layer1 = nn.Linear(input_size, 128)\n",
        "        self.layer2 = nn.Linear(128, 128)\n",
        "        self.layer3 = nn.Linear(128, 128)\n",
        "\n",
        "        self.relu = nn.ReLU()\n",
        "\n",
        "        self.out = nn.Linear(128, num_classes)\n",
        "\n",
        "    def forward(self, x):\n",
        "        x = self.relu(self.layer1(x))\n",
        "        x = self.relu(self.layer2(x))\n",
        "        x = self.relu(self.layer3(x))\n",
        "        x = self.out(x)\n",
        "        return x\n",
        "\n",
        "# Initialisation du modèle\n",
        "model = MLP(input_size=2048, num_classes= 5).to('cuda')\n",
        "\n",
        "# Résumé de l'architecture\n",
        "summary(model, input_size=(2048,))"
      ],
      "metadata": {
        "colab": {
          "base_uri": "https://localhost:8080/"
        },
        "id": "Dee9MV0h_paF",
        "outputId": "1da52dfc-92c3-41c4-c79e-6cd1084af496"
      },
      "execution_count": null,
      "outputs": [
        {
          "output_type": "stream",
          "name": "stdout",
          "text": [
            "----------------------------------------------------------------\n",
            "        Layer (type)               Output Shape         Param #\n",
            "================================================================\n",
            "            Linear-1                  [-1, 128]         262,272\n",
            "              ReLU-2                  [-1, 128]               0\n",
            "            Linear-3                  [-1, 128]          16,512\n",
            "              ReLU-4                  [-1, 128]               0\n",
            "            Linear-5                  [-1, 128]          16,512\n",
            "              ReLU-6                  [-1, 128]               0\n",
            "            Linear-7                    [-1, 5]             645\n",
            "================================================================\n",
            "Total params: 295,941\n",
            "Trainable params: 295,941\n",
            "Non-trainable params: 0\n",
            "----------------------------------------------------------------\n",
            "Input size (MB): 0.01\n",
            "Forward/backward pass size (MB): 0.01\n",
            "Params size (MB): 1.13\n",
            "Estimated Total Size (MB): 1.14\n",
            "----------------------------------------------------------------\n"
          ]
        }
      ]
    },
    {
      "cell_type": "markdown",
      "source": [
        "# Chargement du modèle déjà entrainé"
      ],
      "metadata": {
        "id": "RcjNzqBWJyQ4"
      }
    },
    {
      "cell_type": "code",
      "source": [
        "# Charger le modèle\n",
        "model = MLP()\n",
        "model.load_state_dict(torch.load('MLP_on_CNN14.pth'))\n",
        "model.to('cuda')"
      ],
      "metadata": {
        "colab": {
          "base_uri": "https://localhost:8080/"
        },
        "id": "-5Bd7r3i_mXS",
        "outputId": "0ef1c397-37f7-4713-86dd-a8a5b97b025b"
      },
      "execution_count": null,
      "outputs": [
        {
          "output_type": "stream",
          "name": "stderr",
          "text": [
            "<ipython-input-124-6df0428da886>:3: FutureWarning: You are using `torch.load` with `weights_only=False` (the current default value), which uses the default pickle module implicitly. It is possible to construct malicious pickle data which will execute arbitrary code during unpickling (See https://github.com/pytorch/pytorch/blob/main/SECURITY.md#untrusted-models for more details). In a future release, the default value for `weights_only` will be flipped to `True`. This limits the functions that could be executed during unpickling. Arbitrary objects will no longer be allowed to be loaded via this mode unless they are explicitly allowlisted by the user via `torch.serialization.add_safe_globals`. We recommend you start setting `weights_only=True` for any use case where you don't have full control of the loaded file. Please open an issue on GitHub for any issues related to this experimental feature.\n",
            "  model.load_state_dict(torch.load('MLP_on_CNN14.pth'))\n"
          ]
        },
        {
          "output_type": "execute_result",
          "data": {
            "text/plain": [
              "MLP(\n",
              "  (layer1): Linear(in_features=2048, out_features=128, bias=True)\n",
              "  (layer2): Linear(in_features=128, out_features=128, bias=True)\n",
              "  (layer3): Linear(in_features=128, out_features=128, bias=True)\n",
              "  (relu): ReLU()\n",
              "  (out): Linear(in_features=128, out_features=5, bias=True)\n",
              ")"
            ]
          },
          "metadata": {},
          "execution_count": 124
        }
      ]
    },
    {
      "cell_type": "markdown",
      "source": [
        "# Inférence"
      ],
      "metadata": {
        "id": "0P0KlP0bJ27t"
      }
    },
    {
      "cell_type": "code",
      "source": [
        "input_file = 'annotations_test.xlsx'\n",
        "output_file = 'test_predictions_CNN14.xlsx'\n",
        "\n",
        "# Charger le fichier Excel\n",
        "df = pd.read_excel(input_file)\n",
        "\n",
        "# Ajouter une colonne pour les embeddings\n",
        "df[\"embeddings\"] = None\n",
        "\n",
        "# Ajouter une colonne pour la prédiction\n",
        "df['Prediction'] = None\n",
        "\n",
        "model.eval()\n",
        "with torch.no_grad():\n",
        "  # Ajouter chaque embeddings de chaque instance dans le dataframe\n",
        "  for index, row in df.iterrows():\n",
        "      try:\n",
        "        # Charger la donnée audio depuis la source\n",
        "        wav_path = '/content/' + str(row['filename'])\n",
        "\n",
        "        # Obtenir le bon format\n",
        "        waveform, sample_rate = torchaudio.load(wav_path)\n",
        "\n",
        "        # Applique le modèle d'extraction d'embeddings à des données audio WAV\n",
        "        _, embedding = audio_tagging.inference(waveform)\n",
        "\n",
        "        embedding_torch = torch.from_numpy(embedding).unsqueeze(0).float().to('cuda')\n",
        "\n",
        "        # Inférence avec le modèle\n",
        "        outputs = model(embedding_torch).squeeze(1)\n",
        "\n",
        "        # Déterminer la classe prédite\n",
        "        prediction = torch.argmax(outputs, dim=1).item()\n",
        "\n",
        "        # # Ajouter le résultat dans le DataFrame\n",
        "        df.at[index, \"embeddings\"] = embedding\n",
        "        df.at[index, \"Prediction\"] = prediction\n",
        "      except Exception as e:\n",
        "          print(f\"Erreur\")\n",
        "\n",
        "# Sauvegarder le DataFrame avec les prédictions dans un nouveau fichier Excel\n",
        "df.to_excel(output_file, index=False)"
      ],
      "metadata": {
        "id": "nrFlpxb5NLEt"
      },
      "execution_count": null,
      "outputs": []
    },
    {
      "cell_type": "markdown",
      "source": [
        "# Pour apprentissage actif au besoin"
      ],
      "metadata": {
        "id": "nzrjNHSOaG6e"
      }
    },
    {
      "cell_type": "code",
      "source": [
        "# Téléchargement des résultats de l'inférence\n",
        "files.download('test_predictions_CNN14.xlsx')\n",
        "!wget -O annotations_inference_v2.xlsx"
      ],
      "metadata": {
        "colab": {
          "base_uri": "https://localhost:8080/",
          "height": 91
        },
        "id": "X6_eAuOiOoBF",
        "outputId": "e867b1db-0b8c-4425-813c-2e228673b04b"
      },
      "execution_count": null,
      "outputs": [
        {
          "output_type": "display_data",
          "data": {
            "text/plain": [
              "<IPython.core.display.Javascript object>"
            ],
            "application/javascript": [
              "\n",
              "    async function download(id, filename, size) {\n",
              "      if (!google.colab.kernel.accessAllowed) {\n",
              "        return;\n",
              "      }\n",
              "      const div = document.createElement('div');\n",
              "      const label = document.createElement('label');\n",
              "      label.textContent = `Downloading \"${filename}\": `;\n",
              "      div.appendChild(label);\n",
              "      const progress = document.createElement('progress');\n",
              "      progress.max = size;\n",
              "      div.appendChild(progress);\n",
              "      document.body.appendChild(div);\n",
              "\n",
              "      const buffers = [];\n",
              "      let downloaded = 0;\n",
              "\n",
              "      const channel = await google.colab.kernel.comms.open(id);\n",
              "      // Send a message to notify the kernel that we're ready.\n",
              "      channel.send({})\n",
              "\n",
              "      for await (const message of channel.messages) {\n",
              "        // Send a message to notify the kernel that we're ready.\n",
              "        channel.send({})\n",
              "        if (message.buffers) {\n",
              "          for (const buffer of message.buffers) {\n",
              "            buffers.push(buffer);\n",
              "            downloaded += buffer.byteLength;\n",
              "            progress.value = downloaded;\n",
              "          }\n",
              "        }\n",
              "      }\n",
              "      const blob = new Blob(buffers, {type: 'application/binary'});\n",
              "      const a = document.createElement('a');\n",
              "      a.href = window.URL.createObjectURL(blob);\n",
              "      a.download = filename;\n",
              "      div.appendChild(a);\n",
              "      a.click();\n",
              "      div.remove();\n",
              "    }\n",
              "  "
            ]
          },
          "metadata": {}
        },
        {
          "output_type": "display_data",
          "data": {
            "text/plain": [
              "<IPython.core.display.Javascript object>"
            ],
            "application/javascript": [
              "download(\"download_d2685787-4f35-4c66-a79e-8b5f07a8b900\", \"test_predictions_CNN14.xlsx\", 10296)"
            ]
          },
          "metadata": {}
        },
        {
          "output_type": "stream",
          "name": "stdout",
          "text": [
            "wget: missing URL\n",
            "Usage: wget [OPTION]... [URL]...\n",
            "\n",
            "Try `wget --help' for more options.\n"
          ]
        }
      ]
    },
    {
      "cell_type": "markdown",
      "source": [
        "# Évaluation"
      ],
      "metadata": {
        "id": "Pe-puMacNNnt"
      }
    },
    {
      "cell_type": "code",
      "source": [
        "from sklearn.metrics import confusion_matrix\n",
        "import seaborn as sns\n",
        "import matplotlib.pyplot as plt\n",
        "\n",
        "# Mettre les labels dans une liste\n",
        "true_labels = []\n",
        "predicted_labels = []\n",
        "\n",
        "model.eval()\n",
        "with torch.no_grad():\n",
        "    for features, labels in test_loader:\n",
        "\n",
        "        # X (embedding), y (target)\n",
        "        features, labels = features.to('cuda'), labels.to('cuda')\n",
        "\n",
        "        # Inférence avec le modèle\n",
        "        outputs = model(features).squeeze(1)\n",
        "\n",
        "        # Déterminer la classe prédite\n",
        "        predictions = torch.argmax(outputs, dim=1)\n",
        "\n",
        "        # Ajouter les labels et prédictions aux listes\n",
        "        true_labels.extend(labels.cpu().numpy())\n",
        "        predicted_labels.extend(predictions.cpu().numpy())\n",
        "\n",
        "# Convertir en tableaux numpy\n",
        "true_labels = np.array(true_labels)\n",
        "predicted_labels = np.array(predicted_labels)\n",
        "\n",
        "# Calculer la matrice de confusion\n",
        "conf_matrix = confusion_matrix(true_labels, predicted_labels)\n",
        "\n",
        "# Afficher la matrice de confusion\n",
        "plt.figure(figsize=(8, 6))\n",
        "sns.heatmap(conf_matrix, annot=True, fmt='g', cbar=True, annot_kws={'size': 12})\n",
        "plt.title('Matrice de Confusion', fontsize=16)\n",
        "plt.xlabel('Prédictions', fontsize=12)\n",
        "plt.ylabel('Véritables Labels', fontsize=12)\n",
        "\n",
        "# Ajuster les labels\n",
        "classes = range(len(conf_matrix))\n",
        "plt.xticks(np.arange(len(classes)) + 0.5, classes, rotation=45)\n",
        "plt.yticks(np.arange(len(classes)) + 0.5, classes, rotation=0)\n",
        "\n",
        "plt.show()"
      ],
      "metadata": {
        "colab": {
          "base_uri": "https://localhost:8080/",
          "height": 572
        },
        "id": "4sEnHd4zBM5W",
        "outputId": "b34bc90b-2cd0-48ee-e418-bb2b184b1c86"
      },
      "execution_count": null,
      "outputs": [
        {
          "output_type": "display_data",
          "data": {
            "text/plain": [
              "<Figure size 800x600 with 2 Axes>"
            ],
            "image/png": "[encoded data removed]"
          },
          "metadata": {}
        }
      ]
    },
    {
      "cell_type": "code",
      "source": [
        "from sklearn.metrics import precision_recall_fscore_support, accuracy_score\n",
        "\n",
        "# Calcul de l'accuracy\n",
        "accuracy = accuracy_score(true_labels, predicted_labels)\n",
        "\n",
        "# Calcul des métriques micro\n",
        "micro_precision, micro_recall, micro_f1, _ = precision_recall_fscore_support(\n",
        "    true_labels, predicted_labels, average='micro'\n",
        ")\n",
        "\n",
        "# Calcul des métriques macro\n",
        "macro_precision, macro_recall, macro_f1, _ = precision_recall_fscore_support(\n",
        "    true_labels, predicted_labels, average='macro'\n",
        ")\n",
        "\n",
        "# Afficher les résultats\n",
        "print(f\"Accuracy: {accuracy:.2f}\")\n",
        "\n",
        "print(\"\\n=== Micro Scores ===\")\n",
        "print(f\"Micro Précision: {micro_precision:.2f}\")\n",
        "print(f\"Micro Rappel: {micro_recall:.2f}\")\n",
        "print(f\"Micro F1-Score: {micro_f1:.2f}\")\n",
        "\n",
        "print(\"\\n=== Macro Scores ===\")\n",
        "print(f\"Macro Précision: {macro_precision:.2f}\")\n",
        "print(f\"Macro Rappel: {macro_recall:.2f}\")\n",
        "print(f\"Macro F1-Score: {macro_f1:.2f}\")"
      ],
      "metadata": {
        "colab": {
          "base_uri": "https://localhost:8080/"
        },
        "id": "wAoyzy8kEokq",
        "outputId": "be07a2a8-fd7c-41cb-8fc3-d06f5893095c"
      },
      "execution_count": null,
      "outputs": [
        {
          "output_type": "stream",
          "name": "stdout",
          "text": [
            "Accuracy: 0.51\n",
            "\n",
            "=== Micro Scores ===\n",
            "Micro Précision: 0.51\n",
            "Micro Rappel: 0.51\n",
            "Micro F1-Score: 0.51\n",
            "\n",
            "=== Macro Scores ===\n",
            "Macro Précision: 0.35\n",
            "Macro Rappel: 0.42\n",
            "Macro F1-Score: 0.37\n"
          ]
        },
        {
          "output_type": "stream",
          "name": "stderr",
          "text": [
            "/usr/local/lib/python3.10/dist-packages/sklearn/metrics/_classification.py:1565: UndefinedMetricWarning: Precision is ill-defined and being set to 0.0 in labels with no predicted samples. Use `zero_division` parameter to control this behavior.\n",
            "  _warn_prf(average, modifier, f\"{metric.capitalize()} is\", len(result))\n"
          ]
        }
      ]
    }
  ]
}